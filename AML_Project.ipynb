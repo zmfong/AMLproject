{
  "nbformat": 4,
  "nbformat_minor": 0,
  "metadata": {
    "colab": {
      "provenance": [],
      "gpuType": "T4",
      "authorship_tag": "ABX9TyPO5OeAzpp+Vgv/vExz6Cne",
      "include_colab_link": true
    },
    "kernelspec": {
      "name": "python3",
      "display_name": "Python 3"
    },
    "language_info": {
      "name": "python"
    },
    "accelerator": "GPU"
  },
  "cells": [
    {
      "cell_type": "markdown",
      "metadata": {
        "id": "view-in-github",
        "colab_type": "text"
      },
      "source": [
        "<a href=\"https://colab.research.google.com/github/zmfong/AMLproject/blob/main/AML_Project.ipynb\" target=\"_parent\"><img src=\"https://colab.research.google.com/assets/colab-badge.svg\" alt=\"Open In Colab\"/></a>"
      ]
    },
    {
      "cell_type": "code",
      "source": [
        "!pip install transformers"
      ],
      "metadata": {
        "id": "WquYI0CfXTji"
      },
      "execution_count": null,
      "outputs": []
    },
    {
      "cell_type": "code",
      "source": [
        "# Import necessary libraries\n",
        "import numpy as np\n",
        "import pandas as pd\n",
        "import seaborn as sns\n",
        "from pylab import rcParams\n",
        "import matplotlib.pyplot as plt\n",
        "from matplotlib import rc\n",
        "from sklearn.model_selection import train_test_split\n",
        "from sklearn.metrics import confusion_matrix, classification_report\n",
        "from collections import defaultdict\n",
        "from textwrap import wrap\n",
        "\n",
        "# Torch ML libraries\n",
        "import transformers\n",
        "from transformers import BertModel, BertTokenizer, AdamW, get_linear_schedule_with_warmup\n",
        "import torch\n",
        "from torch import nn, optim\n",
        "from torch.utils.data import Dataset, DataLoader\n",
        "\n",
        "# Misc.\n",
        "import warnings\n",
        "warnings.filterwarnings('ignore')"
      ],
      "metadata": {
        "id": "jcORo-hnS7BY"
      },
      "execution_count": 2,
      "outputs": []
    },
    {
      "cell_type": "code",
      "execution_count": 3,
      "metadata": {
        "id": "JxvADdh5RQJw"
      },
      "outputs": [],
      "source": [
        "# Set intial variables and constants\n",
        "%config InlineBackend.figure_format='retina'\n",
        "\n",
        "# Graph Designs\n",
        "sns.set(style='whitegrid', palette='muted', font_scale=1.2)\n",
        "HAPPY_COLORS_PALETTE = [\"#01BEFE\", \"#FFDD00\", \"#FF7D00\", \"#FF006D\", \"#ADFF02\", \"#8F00FF\"]\n",
        "sns.set_palette(sns.color_palette(HAPPY_COLORS_PALETTE))\n",
        "rcParams['figure.figsize'] = 12, 8\n",
        "\n",
        "# Random seed for reproducibilty\n",
        "RANDOM_SEED = 42\n",
        "np.random.seed(RANDOM_SEED)\n",
        "torch.manual_seed(RANDOM_SEED)\n",
        "\n",
        "# Set GPU\n",
        "device = torch.device(\"cuda\" if torch.cuda.is_available() else \"cpu\")"
      ]
    },
    {
      "cell_type": "markdown",
      "source": [
        "Load the data"
      ],
      "metadata": {
        "id": "kzsyp8XnZtzD"
      }
    },
    {
      "cell_type": "code",
      "source": [
        "#from google.colab import drive\n",
        "#drive.mount('/content/drive')\n",
        "df = pd.read_csv('/content/drive/MyDrive/Colab Notebooks/reddit_comments.csv')\n",
        "df.shape"
      ],
      "metadata": {
        "colab": {
          "base_uri": "https://localhost:8080/"
        },
        "id": "VHnSa5RtTUSe",
        "outputId": "a3edef04-9052-42e7-ce13-ee6f651b9976"
      },
      "execution_count": 19,
      "outputs": [
        {
          "output_type": "execute_result",
          "data": {
            "text/plain": [
              "(12495, 5)"
            ]
          },
          "metadata": {},
          "execution_count": 19
        }
      ]
    },
    {
      "cell_type": "code",
      "source": [
        "df.drop('Unnamed: 0', inplace = True, axis=1)\n",
        "df"
      ],
      "metadata": {
        "colab": {
          "base_uri": "https://localhost:8080/",
          "height": 641
        },
        "id": "8Z2Q1Wz9YQnD",
        "outputId": "bd08f237-e001-4c0b-f09b-e0de67d278fa"
      },
      "execution_count": 20,
      "outputs": [
        {
          "output_type": "execute_result",
          "data": {
            "text/plain": [
              "                       user  \\\n",
              "0                    raymmm   \n",
              "1              JaphieJaphie   \n",
              "2                  surigato   \n",
              "3              parasaiteeee   \n",
              "4            LeftCarpet3520   \n",
              "...                     ...   \n",
              "12490                 Bcpjw   \n",
              "12491                 Bcpjw   \n",
              "12492            patricklhe   \n",
              "12493           tom-slacker   \n",
              "12494  Brief_Worldliness162   \n",
              "\n",
              "                                                 comment     date_time  \\\n",
              "0      Weird I got two burgers when I ordered this pr...  1.684483e+09   \n",
              "1      Since so many have said the promo was real and...  1.684484e+09   \n",
              "2      I have ordered and received 2fillet o fish as ...  1.684483e+09   \n",
              "3      Foodpanda has always been and will always be a...  1.684484e+09   \n",
              "4      As some1 who worked in CS, it is usually a pla...  1.684487e+09   \n",
              "...                                                  ...           ...   \n",
              "12490  Yeah, this would never happen at odette! Lol!\\...  1.663348e+09   \n",
              "12491  Damn, wondering how the employee’s family felt...  1.663347e+09   \n",
              "12492  The restaurant may not be busy but could still...  1.663341e+09   \n",
              "12493                                        Shots fired  1.663346e+09   \n",
              "12494                                      Wahhhh ouch 🤕  1.663383e+09   \n",
              "\n",
              "                                               sub_title  \n",
              "0      Why would McDonalds do this to their customers...  \n",
              "1      Why would McDonalds do this to their customers...  \n",
              "2      Why would McDonalds do this to their customers...  \n",
              "3      Why would McDonalds do this to their customers...  \n",
              "4      Why would McDonalds do this to their customers...  \n",
              "...                                                  ...  \n",
              "12490  Burger King staff shouts ‘for at least 10 minu...  \n",
              "12491  Burger King staff shouts ‘for at least 10 minu...  \n",
              "12492  Burger King staff shouts ‘for at least 10 minu...  \n",
              "12493  Burger King staff shouts ‘for at least 10 minu...  \n",
              "12494  Burger King staff shouts ‘for at least 10 minu...  \n",
              "\n",
              "[12495 rows x 4 columns]"
            ],
            "text/html": [
              "\n",
              "  <div id=\"df-4b8d37d2-ed5e-4d30-9ca2-7c9dbf5844ed\">\n",
              "    <div class=\"colab-df-container\">\n",
              "      <div>\n",
              "<style scoped>\n",
              "    .dataframe tbody tr th:only-of-type {\n",
              "        vertical-align: middle;\n",
              "    }\n",
              "\n",
              "    .dataframe tbody tr th {\n",
              "        vertical-align: top;\n",
              "    }\n",
              "\n",
              "    .dataframe thead th {\n",
              "        text-align: right;\n",
              "    }\n",
              "</style>\n",
              "<table border=\"1\" class=\"dataframe\">\n",
              "  <thead>\n",
              "    <tr style=\"text-align: right;\">\n",
              "      <th></th>\n",
              "      <th>user</th>\n",
              "      <th>comment</th>\n",
              "      <th>date_time</th>\n",
              "      <th>sub_title</th>\n",
              "    </tr>\n",
              "  </thead>\n",
              "  <tbody>\n",
              "    <tr>\n",
              "      <th>0</th>\n",
              "      <td>raymmm</td>\n",
              "      <td>Weird I got two burgers when I ordered this pr...</td>\n",
              "      <td>1.684483e+09</td>\n",
              "      <td>Why would McDonalds do this to their customers...</td>\n",
              "    </tr>\n",
              "    <tr>\n",
              "      <th>1</th>\n",
              "      <td>JaphieJaphie</td>\n",
              "      <td>Since so many have said the promo was real and...</td>\n",
              "      <td>1.684484e+09</td>\n",
              "      <td>Why would McDonalds do this to their customers...</td>\n",
              "    </tr>\n",
              "    <tr>\n",
              "      <th>2</th>\n",
              "      <td>surigato</td>\n",
              "      <td>I have ordered and received 2fillet o fish as ...</td>\n",
              "      <td>1.684483e+09</td>\n",
              "      <td>Why would McDonalds do this to their customers...</td>\n",
              "    </tr>\n",
              "    <tr>\n",
              "      <th>3</th>\n",
              "      <td>parasaiteeee</td>\n",
              "      <td>Foodpanda has always been and will always be a...</td>\n",
              "      <td>1.684484e+09</td>\n",
              "      <td>Why would McDonalds do this to their customers...</td>\n",
              "    </tr>\n",
              "    <tr>\n",
              "      <th>4</th>\n",
              "      <td>LeftCarpet3520</td>\n",
              "      <td>As some1 who worked in CS, it is usually a pla...</td>\n",
              "      <td>1.684487e+09</td>\n",
              "      <td>Why would McDonalds do this to their customers...</td>\n",
              "    </tr>\n",
              "    <tr>\n",
              "      <th>...</th>\n",
              "      <td>...</td>\n",
              "      <td>...</td>\n",
              "      <td>...</td>\n",
              "      <td>...</td>\n",
              "    </tr>\n",
              "    <tr>\n",
              "      <th>12490</th>\n",
              "      <td>Bcpjw</td>\n",
              "      <td>Yeah, this would never happen at odette! Lol!\\...</td>\n",
              "      <td>1.663348e+09</td>\n",
              "      <td>Burger King staff shouts ‘for at least 10 minu...</td>\n",
              "    </tr>\n",
              "    <tr>\n",
              "      <th>12491</th>\n",
              "      <td>Bcpjw</td>\n",
              "      <td>Damn, wondering how the employee’s family felt...</td>\n",
              "      <td>1.663347e+09</td>\n",
              "      <td>Burger King staff shouts ‘for at least 10 minu...</td>\n",
              "    </tr>\n",
              "    <tr>\n",
              "      <th>12492</th>\n",
              "      <td>patricklhe</td>\n",
              "      <td>The restaurant may not be busy but could still...</td>\n",
              "      <td>1.663341e+09</td>\n",
              "      <td>Burger King staff shouts ‘for at least 10 minu...</td>\n",
              "    </tr>\n",
              "    <tr>\n",
              "      <th>12493</th>\n",
              "      <td>tom-slacker</td>\n",
              "      <td>Shots fired</td>\n",
              "      <td>1.663346e+09</td>\n",
              "      <td>Burger King staff shouts ‘for at least 10 minu...</td>\n",
              "    </tr>\n",
              "    <tr>\n",
              "      <th>12494</th>\n",
              "      <td>Brief_Worldliness162</td>\n",
              "      <td>Wahhhh ouch 🤕</td>\n",
              "      <td>1.663383e+09</td>\n",
              "      <td>Burger King staff shouts ‘for at least 10 minu...</td>\n",
              "    </tr>\n",
              "  </tbody>\n",
              "</table>\n",
              "<p>12495 rows × 4 columns</p>\n",
              "</div>\n",
              "      <button class=\"colab-df-convert\" onclick=\"convertToInteractive('df-4b8d37d2-ed5e-4d30-9ca2-7c9dbf5844ed')\"\n",
              "              title=\"Convert this dataframe to an interactive table.\"\n",
              "              style=\"display:none;\">\n",
              "        \n",
              "  <svg xmlns=\"http://www.w3.org/2000/svg\" height=\"24px\"viewBox=\"0 0 24 24\"\n",
              "       width=\"24px\">\n",
              "    <path d=\"M0 0h24v24H0V0z\" fill=\"none\"/>\n",
              "    <path d=\"M18.56 5.44l.94 2.06.94-2.06 2.06-.94-2.06-.94-.94-2.06-.94 2.06-2.06.94zm-11 1L8.5 8.5l.94-2.06 2.06-.94-2.06-.94L8.5 2.5l-.94 2.06-2.06.94zm10 10l.94 2.06.94-2.06 2.06-.94-2.06-.94-.94-2.06-.94 2.06-2.06.94z\"/><path d=\"M17.41 7.96l-1.37-1.37c-.4-.4-.92-.59-1.43-.59-.52 0-1.04.2-1.43.59L10.3 9.45l-7.72 7.72c-.78.78-.78 2.05 0 2.83L4 21.41c.39.39.9.59 1.41.59.51 0 1.02-.2 1.41-.59l7.78-7.78 2.81-2.81c.8-.78.8-2.07 0-2.86zM5.41 20L4 18.59l7.72-7.72 1.47 1.35L5.41 20z\"/>\n",
              "  </svg>\n",
              "      </button>\n",
              "      \n",
              "  <style>\n",
              "    .colab-df-container {\n",
              "      display:flex;\n",
              "      flex-wrap:wrap;\n",
              "      gap: 12px;\n",
              "    }\n",
              "\n",
              "    .colab-df-convert {\n",
              "      background-color: #E8F0FE;\n",
              "      border: none;\n",
              "      border-radius: 50%;\n",
              "      cursor: pointer;\n",
              "      display: none;\n",
              "      fill: #1967D2;\n",
              "      height: 32px;\n",
              "      padding: 0 0 0 0;\n",
              "      width: 32px;\n",
              "    }\n",
              "\n",
              "    .colab-df-convert:hover {\n",
              "      background-color: #E2EBFA;\n",
              "      box-shadow: 0px 1px 2px rgba(60, 64, 67, 0.3), 0px 1px 3px 1px rgba(60, 64, 67, 0.15);\n",
              "      fill: #174EA6;\n",
              "    }\n",
              "\n",
              "    [theme=dark] .colab-df-convert {\n",
              "      background-color: #3B4455;\n",
              "      fill: #D2E3FC;\n",
              "    }\n",
              "\n",
              "    [theme=dark] .colab-df-convert:hover {\n",
              "      background-color: #434B5C;\n",
              "      box-shadow: 0px 1px 3px 1px rgba(0, 0, 0, 0.15);\n",
              "      filter: drop-shadow(0px 1px 2px rgba(0, 0, 0, 0.3));\n",
              "      fill: #FFFFFF;\n",
              "    }\n",
              "  </style>\n",
              "\n",
              "      <script>\n",
              "        const buttonEl =\n",
              "          document.querySelector('#df-4b8d37d2-ed5e-4d30-9ca2-7c9dbf5844ed button.colab-df-convert');\n",
              "        buttonEl.style.display =\n",
              "          google.colab.kernel.accessAllowed ? 'block' : 'none';\n",
              "\n",
              "        async function convertToInteractive(key) {\n",
              "          const element = document.querySelector('#df-4b8d37d2-ed5e-4d30-9ca2-7c9dbf5844ed');\n",
              "          const dataTable =\n",
              "            await google.colab.kernel.invokeFunction('convertToInteractive',\n",
              "                                                     [key], {});\n",
              "          if (!dataTable) return;\n",
              "\n",
              "          const docLinkHtml = 'Like what you see? Visit the ' +\n",
              "            '<a target=\"_blank\" href=https://colab.research.google.com/notebooks/data_table.ipynb>data table notebook</a>'\n",
              "            + ' to learn more about interactive tables.';\n",
              "          element.innerHTML = '';\n",
              "          dataTable['output_type'] = 'display_data';\n",
              "          await google.colab.output.renderOutput(dataTable, element);\n",
              "          const docLink = document.createElement('div');\n",
              "          docLink.innerHTML = docLinkHtml;\n",
              "          element.appendChild(docLink);\n",
              "        }\n",
              "      </script>\n",
              "    </div>\n",
              "  </div>\n",
              "  "
            ]
          },
          "metadata": {},
          "execution_count": 20
        }
      ]
    },
    {
      "cell_type": "markdown",
      "source": [
        "Preprocessing"
      ],
      "metadata": {
        "id": "W4UXVU9IZ2Kq"
      }
    },
    {
      "cell_type": "code",
      "source": [
        "import nltk\n",
        "# Uncomment to download \"stopwords\"\n",
        "nltk.download(\"stopwords\")\n",
        "from nltk.corpus import stopwords\n",
        "\n",
        "def text_preprocessing(s):\n",
        "    \"\"\"\n",
        "    - Lowercase the sentence\n",
        "    - Change \"'t\" to \"not\"\n",
        "    - Remove \"@name\"\n",
        "    - Isolate and remove punctuations except \"?\"\n",
        "    - Remove other special characters\n",
        "    - Remove stop words except \"not\" and \"can\"\n",
        "    - Remove trailing whitespace\n",
        "    \"\"\"\n",
        "    s = s.lower()\n",
        "    # Change 't to 'not'\n",
        "    s = re.sub(r\"\\'t\", \" not\", s)\n",
        "    # Remove @name\n",
        "    s = re.sub(r'(@.*?)[\\s]', ' ', s)\n",
        "    # Isolate and remove punctuations except '?'\n",
        "    s = re.sub(r'([\\'\\\"\\.\\(\\)\\!\\?\\\\\\/\\,])', r' \\1 ', s)\n",
        "    s = re.sub(r'[^\\w\\s\\?]', ' ', s)\n",
        "    # Remove some special characters\n",
        "    s = re.sub(r'([\\;\\:\\|•«\\n])', ' ', s)\n",
        "    # Remove stopwords except 'not' and 'can'\n",
        "    s = \" \".join([word for word in s.split()\n",
        "                  if word not in stopwords.words('english')\n",
        "                  or word in ['not', 'can']])\n",
        "    # Remove trailing whitespace\n",
        "    s = re.sub(r'\\s+', ' ', s).strip()\n",
        "    \n",
        "    return s"
      ],
      "metadata": {
        "colab": {
          "base_uri": "https://localhost:8080/"
        },
        "id": "NB7F648VZ2dS",
        "outputId": "b0ea14f2-4d88-43b3-ee9e-535f2455d4f5"
      },
      "execution_count": 12,
      "outputs": [
        {
          "output_type": "stream",
          "name": "stderr",
          "text": [
            "[nltk_data] Downloading package stopwords to /root/nltk_data...\n",
            "[nltk_data]   Unzipping corpora/stopwords.zip.\n"
          ]
        }
      ]
    },
    {
      "cell_type": "code",
      "source": [
        "import nltk\n",
        "from nltk.corpus import stopwords  #stopwords\n",
        "from nltk.stem import WordNetLemmatizer  \n",
        "from sklearn.feature_extraction.text import TfidfVectorizer\n",
        "stop_words=set(nltk.corpus.stopwords.words('english'))\n",
        "from nltk.tokenize import word_tokenize"
      ],
      "metadata": {
        "id": "t1B2h5LHcgub"
      },
      "execution_count": 28,
      "outputs": []
    },
    {
      "cell_type": "code",
      "source": [
        "def clean_text(headline):\n",
        "    le=WordNetLemmatizer()\n",
        "    word_tokens=word_tokenize(str(headline))\n",
        "    tokens=[le.lemmatize(w) for w in word_tokens if w not in stop_words and len(w)>3]\n",
        "    cleaned_text=\" \".join(tokens)\n",
        "    return cleaned_text"
      ],
      "metadata": {
        "id": "UZXqWj4EePBD"
      },
      "execution_count": 29,
      "outputs": []
    },
    {
      "cell_type": "code",
      "source": [
        "df['cleaned_comment']=df['comment'].apply(clean_text)\n",
        "import re\n",
        "df['cleaned_comment'] = df['cleaned_comment'].apply(lambda x:text_preprocessing(x))\n",
        "df"
      ],
      "metadata": {
        "colab": {
          "base_uri": "https://localhost:8080/",
          "height": 693
        },
        "id": "LJH9-c2gePSx",
        "outputId": "fbf4766d-73b9-436c-a392-8d21658661e0"
      },
      "execution_count": 35,
      "outputs": [
        {
          "output_type": "execute_result",
          "data": {
            "text/plain": [
              "                       user  \\\n",
              "0                    raymmm   \n",
              "1              JaphieJaphie   \n",
              "2                  surigato   \n",
              "3              parasaiteeee   \n",
              "4            LeftCarpet3520   \n",
              "...                     ...   \n",
              "12490                 Bcpjw   \n",
              "12491                 Bcpjw   \n",
              "12492            patricklhe   \n",
              "12493           tom-slacker   \n",
              "12494  Brief_Worldliness162   \n",
              "\n",
              "                                                 comment     date_time  \\\n",
              "0      Weird I got two burgers when I ordered this pr...  1.684483e+09   \n",
              "1      Since so many have said the promo was real and...  1.684484e+09   \n",
              "2      I have ordered and received 2fillet o fish as ...  1.684483e+09   \n",
              "3      Foodpanda has always been and will always be a...  1.684484e+09   \n",
              "4      As some1 who worked in CS, it is usually a pla...  1.684487e+09   \n",
              "...                                                  ...           ...   \n",
              "12490  Yeah, this would never happen at odette! Lol!\\...  1.663348e+09   \n",
              "12491  Damn, wondering how the employee’s family felt...  1.663347e+09   \n",
              "12492  The restaurant may not be busy but could still...  1.663341e+09   \n",
              "12493                                        Shots fired  1.663346e+09   \n",
              "12494                                      Wahhhh ouch 🤕  1.663383e+09   \n",
              "\n",
              "                                               sub_title  \\\n",
              "0      Why would McDonalds do this to their customers...   \n",
              "1      Why would McDonalds do this to their customers...   \n",
              "2      Why would McDonalds do this to their customers...   \n",
              "3      Why would McDonalds do this to their customers...   \n",
              "4      Why would McDonalds do this to their customers...   \n",
              "...                                                  ...   \n",
              "12490  Burger King staff shouts ‘for at least 10 minu...   \n",
              "12491  Burger King staff shouts ‘for at least 10 minu...   \n",
              "12492  Burger King staff shouts ‘for at least 10 minu...   \n",
              "12493  Burger King staff shouts ‘for at least 10 minu...   \n",
              "12494  Burger King staff shouts ‘for at least 10 minu...   \n",
              "\n",
              "                                         cleaned_comment  \n",
              "0      weird burger ordered promo yesterday edit thin...  \n",
              "1      since many said promo real indeed burger inclu...  \n",
              "2                     ordered received 2fillet fish well  \n",
              "3      foodpanda always always trash company work pan...  \n",
              "4      some1 worked usually play safe cover backside ...  \n",
              "...                                                  ...  \n",
              "12490  yeah would never happen odette really time pla...  \n",
              "12491  damn wondering employee family felt watching v...  \n",
              "12492            restaurant busy could still shorthanded  \n",
              "12493                                        shots fired  \n",
              "12494                                        wahhhh ouch  \n",
              "\n",
              "[12495 rows x 5 columns]"
            ],
            "text/html": [
              "\n",
              "  <div id=\"df-07fd4b40-d24b-4244-b3d4-c8c8405afbf1\">\n",
              "    <div class=\"colab-df-container\">\n",
              "      <div>\n",
              "<style scoped>\n",
              "    .dataframe tbody tr th:only-of-type {\n",
              "        vertical-align: middle;\n",
              "    }\n",
              "\n",
              "    .dataframe tbody tr th {\n",
              "        vertical-align: top;\n",
              "    }\n",
              "\n",
              "    .dataframe thead th {\n",
              "        text-align: right;\n",
              "    }\n",
              "</style>\n",
              "<table border=\"1\" class=\"dataframe\">\n",
              "  <thead>\n",
              "    <tr style=\"text-align: right;\">\n",
              "      <th></th>\n",
              "      <th>user</th>\n",
              "      <th>comment</th>\n",
              "      <th>date_time</th>\n",
              "      <th>sub_title</th>\n",
              "      <th>cleaned_comment</th>\n",
              "    </tr>\n",
              "  </thead>\n",
              "  <tbody>\n",
              "    <tr>\n",
              "      <th>0</th>\n",
              "      <td>raymmm</td>\n",
              "      <td>Weird I got two burgers when I ordered this pr...</td>\n",
              "      <td>1.684483e+09</td>\n",
              "      <td>Why would McDonalds do this to their customers...</td>\n",
              "      <td>weird burger ordered promo yesterday edit thin...</td>\n",
              "    </tr>\n",
              "    <tr>\n",
              "      <th>1</th>\n",
              "      <td>JaphieJaphie</td>\n",
              "      <td>Since so many have said the promo was real and...</td>\n",
              "      <td>1.684484e+09</td>\n",
              "      <td>Why would McDonalds do this to their customers...</td>\n",
              "      <td>since many said promo real indeed burger inclu...</td>\n",
              "    </tr>\n",
              "    <tr>\n",
              "      <th>2</th>\n",
              "      <td>surigato</td>\n",
              "      <td>I have ordered and received 2fillet o fish as ...</td>\n",
              "      <td>1.684483e+09</td>\n",
              "      <td>Why would McDonalds do this to their customers...</td>\n",
              "      <td>ordered received 2fillet fish well</td>\n",
              "    </tr>\n",
              "    <tr>\n",
              "      <th>3</th>\n",
              "      <td>parasaiteeee</td>\n",
              "      <td>Foodpanda has always been and will always be a...</td>\n",
              "      <td>1.684484e+09</td>\n",
              "      <td>Why would McDonalds do this to their customers...</td>\n",
              "      <td>foodpanda always always trash company work pan...</td>\n",
              "    </tr>\n",
              "    <tr>\n",
              "      <th>4</th>\n",
              "      <td>LeftCarpet3520</td>\n",
              "      <td>As some1 who worked in CS, it is usually a pla...</td>\n",
              "      <td>1.684487e+09</td>\n",
              "      <td>Why would McDonalds do this to their customers...</td>\n",
              "      <td>some1 worked usually play safe cover backside ...</td>\n",
              "    </tr>\n",
              "    <tr>\n",
              "      <th>...</th>\n",
              "      <td>...</td>\n",
              "      <td>...</td>\n",
              "      <td>...</td>\n",
              "      <td>...</td>\n",
              "      <td>...</td>\n",
              "    </tr>\n",
              "    <tr>\n",
              "      <th>12490</th>\n",
              "      <td>Bcpjw</td>\n",
              "      <td>Yeah, this would never happen at odette! Lol!\\...</td>\n",
              "      <td>1.663348e+09</td>\n",
              "      <td>Burger King staff shouts ‘for at least 10 minu...</td>\n",
              "      <td>yeah would never happen odette really time pla...</td>\n",
              "    </tr>\n",
              "    <tr>\n",
              "      <th>12491</th>\n",
              "      <td>Bcpjw</td>\n",
              "      <td>Damn, wondering how the employee’s family felt...</td>\n",
              "      <td>1.663347e+09</td>\n",
              "      <td>Burger King staff shouts ‘for at least 10 minu...</td>\n",
              "      <td>damn wondering employee family felt watching v...</td>\n",
              "    </tr>\n",
              "    <tr>\n",
              "      <th>12492</th>\n",
              "      <td>patricklhe</td>\n",
              "      <td>The restaurant may not be busy but could still...</td>\n",
              "      <td>1.663341e+09</td>\n",
              "      <td>Burger King staff shouts ‘for at least 10 minu...</td>\n",
              "      <td>restaurant busy could still shorthanded</td>\n",
              "    </tr>\n",
              "    <tr>\n",
              "      <th>12493</th>\n",
              "      <td>tom-slacker</td>\n",
              "      <td>Shots fired</td>\n",
              "      <td>1.663346e+09</td>\n",
              "      <td>Burger King staff shouts ‘for at least 10 minu...</td>\n",
              "      <td>shots fired</td>\n",
              "    </tr>\n",
              "    <tr>\n",
              "      <th>12494</th>\n",
              "      <td>Brief_Worldliness162</td>\n",
              "      <td>Wahhhh ouch 🤕</td>\n",
              "      <td>1.663383e+09</td>\n",
              "      <td>Burger King staff shouts ‘for at least 10 minu...</td>\n",
              "      <td>wahhhh ouch</td>\n",
              "    </tr>\n",
              "  </tbody>\n",
              "</table>\n",
              "<p>12495 rows × 5 columns</p>\n",
              "</div>\n",
              "      <button class=\"colab-df-convert\" onclick=\"convertToInteractive('df-07fd4b40-d24b-4244-b3d4-c8c8405afbf1')\"\n",
              "              title=\"Convert this dataframe to an interactive table.\"\n",
              "              style=\"display:none;\">\n",
              "        \n",
              "  <svg xmlns=\"http://www.w3.org/2000/svg\" height=\"24px\"viewBox=\"0 0 24 24\"\n",
              "       width=\"24px\">\n",
              "    <path d=\"M0 0h24v24H0V0z\" fill=\"none\"/>\n",
              "    <path d=\"M18.56 5.44l.94 2.06.94-2.06 2.06-.94-2.06-.94-.94-2.06-.94 2.06-2.06.94zm-11 1L8.5 8.5l.94-2.06 2.06-.94-2.06-.94L8.5 2.5l-.94 2.06-2.06.94zm10 10l.94 2.06.94-2.06 2.06-.94-2.06-.94-.94-2.06-.94 2.06-2.06.94z\"/><path d=\"M17.41 7.96l-1.37-1.37c-.4-.4-.92-.59-1.43-.59-.52 0-1.04.2-1.43.59L10.3 9.45l-7.72 7.72c-.78.78-.78 2.05 0 2.83L4 21.41c.39.39.9.59 1.41.59.51 0 1.02-.2 1.41-.59l7.78-7.78 2.81-2.81c.8-.78.8-2.07 0-2.86zM5.41 20L4 18.59l7.72-7.72 1.47 1.35L5.41 20z\"/>\n",
              "  </svg>\n",
              "      </button>\n",
              "      \n",
              "  <style>\n",
              "    .colab-df-container {\n",
              "      display:flex;\n",
              "      flex-wrap:wrap;\n",
              "      gap: 12px;\n",
              "    }\n",
              "\n",
              "    .colab-df-convert {\n",
              "      background-color: #E8F0FE;\n",
              "      border: none;\n",
              "      border-radius: 50%;\n",
              "      cursor: pointer;\n",
              "      display: none;\n",
              "      fill: #1967D2;\n",
              "      height: 32px;\n",
              "      padding: 0 0 0 0;\n",
              "      width: 32px;\n",
              "    }\n",
              "\n",
              "    .colab-df-convert:hover {\n",
              "      background-color: #E2EBFA;\n",
              "      box-shadow: 0px 1px 2px rgba(60, 64, 67, 0.3), 0px 1px 3px 1px rgba(60, 64, 67, 0.15);\n",
              "      fill: #174EA6;\n",
              "    }\n",
              "\n",
              "    [theme=dark] .colab-df-convert {\n",
              "      background-color: #3B4455;\n",
              "      fill: #D2E3FC;\n",
              "    }\n",
              "\n",
              "    [theme=dark] .colab-df-convert:hover {\n",
              "      background-color: #434B5C;\n",
              "      box-shadow: 0px 1px 3px 1px rgba(0, 0, 0, 0.15);\n",
              "      filter: drop-shadow(0px 1px 2px rgba(0, 0, 0, 0.3));\n",
              "      fill: #FFFFFF;\n",
              "    }\n",
              "  </style>\n",
              "\n",
              "      <script>\n",
              "        const buttonEl =\n",
              "          document.querySelector('#df-07fd4b40-d24b-4244-b3d4-c8c8405afbf1 button.colab-df-convert');\n",
              "        buttonEl.style.display =\n",
              "          google.colab.kernel.accessAllowed ? 'block' : 'none';\n",
              "\n",
              "        async function convertToInteractive(key) {\n",
              "          const element = document.querySelector('#df-07fd4b40-d24b-4244-b3d4-c8c8405afbf1');\n",
              "          const dataTable =\n",
              "            await google.colab.kernel.invokeFunction('convertToInteractive',\n",
              "                                                     [key], {});\n",
              "          if (!dataTable) return;\n",
              "\n",
              "          const docLinkHtml = 'Like what you see? Visit the ' +\n",
              "            '<a target=\"_blank\" href=https://colab.research.google.com/notebooks/data_table.ipynb>data table notebook</a>'\n",
              "            + ' to learn more about interactive tables.';\n",
              "          element.innerHTML = '';\n",
              "          dataTable['output_type'] = 'display_data';\n",
              "          await google.colab.output.renderOutput(dataTable, element);\n",
              "          const docLink = document.createElement('div');\n",
              "          docLink.innerHTML = docLinkHtml;\n",
              "          element.appendChild(docLink);\n",
              "        }\n",
              "      </script>\n",
              "    </div>\n",
              "  </div>\n",
              "  "
            ]
          },
          "metadata": {},
          "execution_count": 35
        }
      ]
    },
    {
      "cell_type": "markdown",
      "source": [
        "Topic Analysis"
      ],
      "metadata": {
        "id": "-OK2J15Ni7lG"
      }
    },
    {
      "cell_type": "code",
      "source": [
        "vect =TfidfVectorizer(stop_words='english',max_features=1000)\n",
        "vect_text=vect.fit_transform(df['cleaned_comment'])"
      ],
      "metadata": {
        "id": "OWCpEs0Kfhls"
      },
      "execution_count": 37,
      "outputs": []
    },
    {
      "cell_type": "code",
      "source": [
        "from sklearn.decomposition import LatentDirichletAllocation\n",
        "lda_model=LatentDirichletAllocation(n_components=10,\n",
        "learning_method='online',random_state=2023,max_iter=1) \n",
        "lda_top=lda_model.fit_transform(vect_text)"
      ],
      "metadata": {
        "id": "etP_oMRPgqtE"
      },
      "execution_count": 58,
      "outputs": []
    },
    {
      "cell_type": "code",
      "source": [
        "print(\"Document 0: \")\n",
        "for i,topic in enumerate(lda_top[0]):\n",
        "  print(\"Topic \",i,\": \",topic*100,\"%\")"
      ],
      "metadata": {
        "colab": {
          "base_uri": "https://localhost:8080/"
        },
        "id": "p6LlIDEng8Ib",
        "outputId": "a1e60220-1b6b-40c4-e289-e997caab5521"
      },
      "execution_count": 62,
      "outputs": [
        {
          "output_type": "stream",
          "name": "stdout",
          "text": [
            "Document 0: \n",
            "Topic  0 :  1.891948697181528 %\n",
            "Topic  1 :  64.26150569054275 %\n",
            "Topic  2 :  1.8921785815579426 %\n",
            "Topic  3 :  1.8912872428900114 %\n",
            "Topic  4 :  12.26828026719669 %\n",
            "Topic  5 :  5.8674778977739255 %\n",
            "Topic  6 :  1.8912654286980075 %\n",
            "Topic  7 :  6.251743882439256 %\n",
            "Topic  8 :  1.8930271457040269 %\n",
            "Topic  9 :  1.8912851660158787 %\n"
          ]
        }
      ]
    },
    {
      "cell_type": "code",
      "source": [
        "vocab = vect.get_feature_names_out()\n",
        "for i, comp in enumerate(lda_model.components_):\n",
        "     vocab_comp = zip(vocab, comp)\n",
        "     sorted_words = sorted(vocab_comp, key= lambda x:x[1], reverse=True)[:20]\n",
        "     print(\"Topic \"+str(i)+\": \")\n",
        "     for t in sorted_words:\n",
        "            print(t[0],end=\" \")"
      ],
      "metadata": {
        "colab": {
          "base_uri": "https://localhost:8080/"
        },
        "id": "Uj2Kz84uhGk1",
        "outputId": "ebc68ab4-47fa-46bd-d1f1-23ff4ab60e91"
      },
      "execution_count": 60,
      "outputs": [
        {
          "output_type": "stream",
          "name": "stdout",
          "text": [
            "Topic 0: \n",
            "deleted life arnold shit sound like wrong kind black economy recently removed bring place bos happened crispy using guy coffee Topic 1: \n",
            "look need cheese yeah business like double check popeyes think care going cost home dude open game definitely real better Topic 2: \n",
            "time like want getting make price mean coke come malaysia send waiting prefer instead fresh problem tell quality food weekend Topic 3: \n",
            "jollibee better used nice feel local thank anymore choice agree option experience really working know article live super market cheaper Topic 4: \n",
            "food long week remember fast right expensive meat liao good yishun eating thought guess time suck sorry thats restaurant went Topic 5: \n",
            "meal thanks hope good tried happy actually wonder store start menu mcspicy branch like feel morning time night reddit mcdonalds Topic 6: \n",
            "chicken best breast haha wing rice sure like pretty feeling size miss thigh singapore great hand short area stop fine Topic 7: \n",
            "http com maybe outlet covid drumstick time probably work order day staff www road mcdonald delivery kentucky year stay hahaha Topic 8: \n",
            "good fried burger taste love fry king sauce money texas damn know lucky nowadays tiny drink mind bought news month Topic 9: \n",
            "pepsi water girl poor usually reason standard change deal culture time like really number watch plaza person honestly soon wish "
          ]
        }
      ]
    },
    {
      "cell_type": "markdown",
      "source": [],
      "metadata": {
        "id": "QQnwSKDEhD_r"
      }
    }
  ]
}